{
 "cells": [
  {
   "cell_type": "markdown",
   "metadata": {
    "slideshow": {
     "slide_type": "slide"
    }
   },
   "source": [
    "<h1>Tutorial 3 worksheet</h1>\n"
   ]
  },
  {
   "cell_type": "markdown",
   "metadata": {
    "slideshow": {
     "slide_type": "slide"
    }
   },
   "source": [
    "<h3> The extended Kalman filter continued</h3>\n",
    "\n",
    "<ul>\n",
    "  <li class=\"fragment\"> In the following slide, we will attempt to extended Kalman filter in the Ikeda map.</li>\n",
    "  <li class=\"fragment\"> The code chunk below defines the Jacobian of the map, used to propagate the covariance in in the forecast step.</li>\n",
    "  <li class=\"fragment\"><b>Exercise (2 minutes):</b> use the sliders in the following slide to examine how the covariance changes due to the flow dependence.  Then consider the following questions:</li>\n",
    "    <ol>\n",
    "            <li>How does the analysis covariance differ from the fixed background prior?</li>\n",
    "            <li>How does the analysis covariance change with respect to the forecast covariance at each step?</li>\n",
    "            <li>How does the analysis covariance change with respect to different observation error variances?</li>\n",
    "    </ol>\n",
    "</ul>"
   ]
  },
  {
   "cell_type": "code",
   "execution_count": null,
   "metadata": {
    "code_folding": [
     6,
     20,
     23
    ],
    "slideshow": {
     "slide_type": "fragment"
    }
   },
   "outputs": [],
   "source": [
    "import matplotlib.pyplot as plt\n",
    "from ipywidgets import interactive\n",
    "from IPython.display import display\n",
    "from matplotlib.patches import Ellipse\n",
    "\n",
    "\n",
    "def Ikeda(X_0, u):\n",
    "    \"\"\"The array X_0 will define the initial condition and the parameter u controls the chaos of the map\n",
    "    \n",
    "    This should return X_1 as the forward state.\"\"\"\n",
    "    \n",
    "    t_n = 0.4 - 6 / (1 + X_0.dot(X_0) )\n",
    "    \n",
    "    x_1 = 1 + u * (X_0[0] * np.cos(t_n) + X_0[1] * np.cos(t_n))\n",
    "    y_1 = u * (X_0[0] * np.sin(t_n) + X_0[1] * np.cos(t_n))\n",
    "                 \n",
    "    X_1 = np.array([x_1, y_1])\n",
    "    \n",
    "    return X_1\n",
    "\n",
    "def Ikeda_jacobian(X_0, u):\n",
    "    \n",
    "    # define the partial derviative of t with respect to v\n",
    "    def dt_dv(v,w):\n",
    "        return 12 * v / ( (1 + w**2 + v**2) ** (2) )\n",
    "\n",
    "    # unpack the values for x and y\n",
    "    x, y = X_0\n",
    "    \n",
    "    # compute t\n",
    "    t = 0.4 - 6 / (1 + x**2 + y**2)\n",
    "    \n",
    "    # evaluate the partial derivatives\n",
    "    df1_dx = u * (np.cos(t) - x * np.sin(t) * dt_dv(x,y) + y * np.cos(t) * dt_dv(x,y))\n",
    "    df1_dy = u * (-x * np.sin(t) * dt_dv(y,x) + np.sin(t) + y * np.cos(t) * dt_dv(y,x))\n",
    "    df2_dx = u * (np.sin(t) + x * np.cos(t) * dt_dv(x,y) - y * np.sin(t) * dt_dv(x,y))\n",
    "    df2_dy = u * (x * np.cos(t) * dt_dv(y,x) + np.cos(t) - y * np.sin(t) * dt_dv(y,x))\n",
    "    \n",
    "    return np.array([[df1_dx, df1_dy], [df2_dx, df2_dy]])\n"
   ]
  },
  {
   "cell_type": "code",
   "execution_count": null,
   "metadata": {
    "code_folding": [
     0,
     17
    ],
    "slideshow": {
     "slide_type": "slide"
    }
   },
   "outputs": [],
   "source": [
    "def animate_ext_kf(B_var = 0.1, R_var = 0.1, N=2):\n",
    "\n",
    "    # define the static background and observational error covariances\n",
    "    P_0 = B_var * np.eye(2)\n",
    "    R = R_var * np.eye(2)\n",
    "\n",
    "    # set a random seed for the reproducibility\n",
    "    np.random.seed(1)\n",
    "    \n",
    "    # we define the mean for the background\n",
    "    x_b = np.array([0,0])\n",
    "    \n",
    "    # and the initial condition of the real state as a random draw from the prior\n",
    "    x_t = np.random.multivariate_normal([0,0], P_0)\n",
    "\n",
    "    # define the Ikeda map parameter\n",
    "    u = 0.75\n",
    "    for i in range(N-1):\n",
    "        \n",
    "        # we forward propagate the true state\n",
    "        x_t = Ikeda(x_t, u)\n",
    "        \n",
    "        # and generate a noisy observation\n",
    "        y_obs = x_t + np.random.multivariate_normal([0,0], R)\n",
    "        \n",
    "        # forward propagate the last analysis\n",
    "        x_b_f = Ikeda(x_b, u)\n",
    "        \n",
    "        # forward propagate the covariance\n",
    "        J = Ikeda_jacobian(x_b, u)\n",
    "        P_1 = J @ P_0 @ J.transpose()\n",
    "        \n",
    "        # analyze the observation\n",
    "        K = P_1 @ np.linalg.inv(P_1 + R)\n",
    "        x_b = x_b_f + K @ (y_obs - x_b_f)\n",
    "        P_0 = (np.eye(2) - K) @ P_1\n",
    "    \n",
    "    \n",
    "    fig = plt.figure(figsize=(16,8))\n",
    "    ax = fig.add_axes([.1, .1, .8, .8])\n",
    "    \n",
    "    l1 = ax.scatter(x_b_f[0], x_b_f[1], c='k', s=40)\n",
    "    w, v = np.linalg.eigh(P_1)\n",
    "    ANGLE = np.pi / 2 - np.arctan(v[0][0]/ v[0][1])\n",
    "    ANGLE = ANGLE * 180 / np.pi\n",
    "    ax.add_patch(Ellipse(x_b_f, w[0], w[1], angle=ANGLE, ec='k', fc='none'))\n",
    "    \n",
    "    l2 = ax.scatter(y_obs[0], y_obs[1], c='r', s=40)\n",
    "    ax.add_patch(Ellipse(y_obs, R_var, R_var, ec='r', fc='none'))\n",
    "    \n",
    "    \n",
    "    l3 = ax.scatter(x_b[0], x_b[1], c='b', s=40)\n",
    "    w, v = np.linalg.eigh(P_0)\n",
    "    ANGLE = np.pi / 2 - np.arctan(v[0][0]/ v[0][1])\n",
    "    ANGLE = ANGLE * 180 / np.pi\n",
    "    ax.add_patch(Ellipse(x_b, w[0], w[1], angle=ANGLE, ec='b', fc='none'))\n",
    "    \n",
    "    \n",
    "    ax.set_xlim([-1, 4])\n",
    "    ax.set_ylim([-3,1])\n",
    "    \n",
    "    labels = ['Forecast', 'Observation', 'Analysis']\n",
    "    plt.legend([l1,l2,l3],labels, loc='upper right', fontsize=26)\n",
    "    plt.show()\n",
    "    \n",
    "w = interactive(animate_ext_kf,B_var=(0.01,1.0,0.01), R_var=(0.001,1.0,0.001), N=(2, 50, 1))\n",
    "display(w)"
   ]
  },
  {
   "cell_type": "code",
   "execution_count": null,
   "metadata": {},
   "outputs": [],
   "source": []
  }
 ],
 "metadata": {
  "celltoolbar": "Slideshow",
  "kernelspec": {
   "display_name": "Python 2",
   "language": "python",
   "name": "python2"
  },
  "language_info": {
   "codemirror_mode": {
    "name": "ipython",
    "version": 2
   },
   "file_extension": ".py",
   "mimetype": "text/x-python",
   "name": "python",
   "nbconvert_exporter": "python",
   "pygments_lexer": "ipython2",
   "version": "2.7.15"
  },
  "latex_envs": {
   "LaTeX_envs_menu_present": true,
   "autoclose": false,
   "autocomplete": false,
   "bibliofile": "biblio.bib",
   "cite_by": "apalike",
   "current_citInitial": 1,
   "eqLabelWithNumbers": true,
   "eqNumInitial": 1,
   "hotkeys": {
    "equation": "Ctrl-E",
    "itemize": "Ctrl-I"
   },
   "labels_anchors": false,
   "latex_user_defs": false,
   "report_style_numbering": false,
   "user_envs_cfg": false
  }
 },
 "nbformat": 4,
 "nbformat_minor": 2
}
