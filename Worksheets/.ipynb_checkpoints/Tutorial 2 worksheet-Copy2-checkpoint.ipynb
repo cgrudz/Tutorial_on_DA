{
 "cells": [
  {
   "cell_type": "markdown",
   "metadata": {
    "slideshow": {
     "slide_type": "slide"
    }
   },
   "source": [
    "<h1>Tutorial 2 worksheet<br>\n"
   ]
  },
  {
   "cell_type": "markdown",
   "metadata": {
    "code_folding": [],
    "slideshow": {
     "slide_type": "slide"
    }
   },
   "source": [
    "<h3>Coding the Ikeda map</h3>\n",
    "<ul>\n",
    "    <li class=\"fragment\"><b>Exercise (5 minutes):</b> complete the code chunk below to define the Ikeda map\n",
    "         \\begin{align}\n",
    "    x_{{k+1}}=1 + u(x_{k}\\cos t_{k}+y_{k}\\sin t_{k}) & &\n",
    "    y_{{k+1}}=u(x_{k}\\sin t_{k}+y_{k}\\cos t_{k})\\\\\n",
    "    t_k = 0.4 - \\frac{6}{1 + x_k^2 + y_k^2}\n",
    "    \\end{align}\n",
    "        of a point defined as a 2-D array.  Then proceed in the notebook to test the function by using the slider.</li>\n",
    "</ul>"
   ]
  },
  {
   "cell_type": "markdown",
   "metadata": {
    "code_folding": [],
    "slideshow": {
     "slide_type": "fragment"
    }
   },
   "source": [
    "## import numpy as np\n",
    "\n",
    "def Ikeda(X_0, u):\n",
    "    \"\"\"The array X_0 will define the initial condition and the parameter u controls the chaos of the map\n",
    "    \n",
    "    This should return X_1 as the forward state.\"\"\"\n",
    "\n",
    "    t_1 = 0.4-6/(1+X_0.dot(X_0) ) # define the tn here\n",
    "    \n",
    "    x_1 = # define the forward x state here\n",
    "    y_1 = # define the forward y state here\n",
    "                 \n",
    "    X_1 = np.array([x_1, y_1])\n",
    "    \n",
    "    return X_1"
   ]
  },
  {
   "cell_type": "code",
   "execution_count": null,
   "metadata": {
    "code_folding": [
     4,
     8
    ],
    "slideshow": {
     "slide_type": "slide"
    }
   },
   "outputs": [],
   "source": [
    "import matplotlib.pyplot as plt\n",
    "from ipywidgets import interactive\n",
    "from IPython.display import display\n",
    "\n",
    "def animate_ikeda(u=0.9, N=2):\n",
    "    \n",
    "    X_traj = np.zeros([N, 2])\n",
    "    X_traj[0,:] = [0,0]\n",
    "    for i in range(N-1):\n",
    "        tmp = Ikeda(X_traj[i, :], u)\n",
    "        X_traj[i+1, :] = tmp\n",
    "\n",
    "    fig = plt.figure(figsize=(16,8))\n",
    "    ax = fig.add_axes([.1, .1, .8, .8])\n",
    "    ax.scatter(X_traj[:,0], X_traj[:, 1])\n",
    "    \n",
    "    plt.show()\n",
    "    \n",
    "w = interactive(animate_ikeda,u=(0,.95,0.01), N=(2, 2002, 50))\n",
    "display(w)"
   ]
  },
  {
   "cell_type": "markdown",
   "metadata": {
    "code_folding": [],
    "slideshow": {
     "slide_type": "slide"
    }
   },
   "source": [
    "<h3>Coding 3D-VAR</h3>\n",
    "<ul>\n",
    "    <li class=\"fragment\"> <b>Exercise (3 minutes):</b> complete the code chunk below to define the 3D-VAR cost function:\n",
    "        \\begin{align}\n",
    "    J(\\mathbf{x}) &= \\frac{1}{2}\\left[\\left(\\mathbf{x} - \\mathbf{x}_b\\right)^\\mathrm{T} \\mathbf{B}^{-1}\\left(\\mathbf{x} - \\mathbf{x}_b\\right) + \\left(\\mathbf{H}\\mathbf{x} - \\mathbf{y}_k\\right)^\\mathrm{T} \\mathbf{R}^{-1} \\left(\\mathbf{H}\\mathbf{x} - \\mathbf{y}_k\\right)\\right]  \n",
    "        \\end{align}\n",
    "    </li>\n",
    "    <li class=\"fragment\">Note that the inverse of a matrix can be called as a method as follows</li>        \n",
    "</ul>"
   ]
  },
  {
   "cell_type": "code",
   "execution_count": null,
   "metadata": {
    "slideshow": {
     "slide_type": "fragment"
    }
   },
   "outputs": [],
   "source": [
    "A = np.array([[1, 2], [3, 4]])\n",
    "A_inverse = np.linalg.inv(A)\n",
    "A_inverse"
   ]
  },
  {
   "cell_type": "code",
   "execution_count": null,
   "metadata": {
    "code_folding": [],
    "slideshow": {
     "slide_type": "slide"
    }
   },
   "outputs": [],
   "source": [
    "def D3_var(X, args):\n",
    "    \"\"\"This function defines is the 3D-VAR cost function\n",
    "    \n",
    "    For simplicity, we will assume that the observation operator H is the identity operator\"\"\"\n",
    "    \n",
    "    # we unpack the extra arguments\n",
    "    [x_b, B, y_obs, R] = args\n",
    "    \n",
    "    b_diff = # define the weighted difference of the state from the background\n",
    "\n",
    "    W_innovation = # define the weighted difference of the state from the observation\n",
    "    \n",
    "    return b_diff + W_innovation"
   ]
  },
  {
   "cell_type": "markdown",
   "metadata": {
    "code_folding": [],
    "slideshow": {
     "slide_type": "slide"
    }
   },
   "source": [
    "<h3>Coding 3D-VAR</h3>\n",
    "<ul>\n",
    "    <li class=\"fragment\"> <b>Example solution:</b> </li>\n",
    "</ul>"
   ]
  },
  {
   "cell_type": "code",
   "execution_count": null,
   "metadata": {
    "code_folding": [],
    "slideshow": {
     "slide_type": "fragment"
    }
   },
   "outputs": [],
   "source": [
    "def D3_var(X, args):\n",
    "    \"\"\"This function defines is the 3D-VAR cost function\n",
    "    \n",
    "    For simplicity, we will assume that the observation operator H is the identity operator\"\"\"\n",
    "    \n",
    "    # we unpack the extra arguments\n",
    "    [x_b, B, y_obs, R] = args\n",
    "    \n",
    "    # define the weighted difference of the state from the background\n",
    "    b_diff = (X - x_b).transpose() @ np.linalg.inv(B) @ (X - x_b)\n",
    "\n",
    "    # define the weighted difference of the state from the observation\n",
    "    W_innovation = (y_obs - X).transpose() @ np.linalg.inv(R) @ (y_obs - X)\n",
    "    \n",
    "    return b_diff + W_innovation"
   ]
  },
  {
   "cell_type": "markdown",
   "metadata": {
    "code_folding": [],
    "slideshow": {
     "slide_type": "slide"
    }
   },
   "source": [
    "<h3>Analyzing 3D-VAR</h3>\n",
    "<ul>\n",
    "    <li class=\"fragment\"><b>Exercise (2 minutes):</b>In the following cell, use the sliders to analyze the performance of the 3D-VAR estimator.  Specifically consider:</li>\n",
    "    <ol>\n",
    "        <li class=\"fragment\">What is the effect on the analysis solution by changing the variance of the background covariance $\\mathbf{B}\\triangleq B_{var} * \\mathbf{I}_2$?</li>\n",
    "                <li class=\"fragment\">What is the effect on the analysis solution by changing the variance of the observation error covariance $\\mathbf{B}\\triangleq R_{var} * \\mathbf{I}_2$?</li>\n",
    "                <li class=\"fragment\">What is the effect on the analysis solution by changing the number of analyses $N$?</li>\n",
    "    </ol>\n",
    "</ul>"
   ]
  },
  {
   "cell_type": "code",
   "execution_count": null,
   "metadata": {
    "code_folding": [
     3
    ],
    "slideshow": {
     "slide_type": "slide"
    }
   },
   "outputs": [],
   "source": [
    "from scipy.optimize import minimize\n",
    "from matplotlib.patches import Ellipse\n",
    "\n",
    "def animate_D3(B_var = 0.1, R_var = 0.1, N=2):\n",
    "\n",
    "    # define the static background and observational error covariances\n",
    "    B = B_var * np.eye(2)\n",
    "    R = R_var * np.eye(2)\n",
    "\n",
    "    # set a random seed for the reproducibility\n",
    "    np.random.seed(1)\n",
    "    \n",
    "    # we define the mean for the background\n",
    "    x_b = np.array([0,0])\n",
    "    \n",
    "    # and the initial condition of the real state as a random draw from the prior\n",
    "    x_t = np.random.multivariate_normal([0,0], np.eye(2) * B_var)\n",
    "\n",
    "    # define the Ikeda map parameter\n",
    "    u = 0.75\n",
    "    for i in range(N-1):\n",
    "        \n",
    "        # we forward propagate the true state\n",
    "        x_t = Ikeda(x_t, u)\n",
    "        \n",
    "        # and generate a noisy observation\n",
    "        y_obs = x_t + np.random.multivariate_normal([0,0], R)\n",
    "        \n",
    "        # forward propagate the last analysis\n",
    "        x_b_f = Ikeda(x_b, u)\n",
    "        \n",
    "        # define the arguments necessary for the 3D-VAR\n",
    "        ARGS = [x_b_f, B, y_obs, R]\n",
    "\n",
    "        analys = minimize(D3_var, x_b_f, args=ARGS)\n",
    "        x_b = analys.x\n",
    "    \n",
    "    fig = plt.figure(figsize=(16,8))\n",
    "    ax = fig.add_axes([.1, .1, .8, .8])\n",
    "    \n",
    "    l1 = ax.scatter(x_b_f[0], x_b_f[1], c='k', s=40)\n",
    "    ax.add_patch(Ellipse(x_b_f, B_var, B_var, ec='k', fc='none'))\n",
    "    \n",
    "    \n",
    "    l2 = ax.scatter(y_obs[0], y_obs[1], c='r', s=40)\n",
    "    ax.add_patch(Ellipse(y_obs, R_var, R_var, ec='r', fc='none'))\n",
    "    \n",
    "    l3 = ax.scatter(x_b[0], x_b[1], c='b', s=40)\n",
    "    ax.set_xlim([-1, 4])\n",
    "    ax.set_ylim([-3,1])\n",
    "    \n",
    "    labels = ['Forecast', 'Observation', 'Analysis']\n",
    "    plt.legend([l1,l2,l3],labels, loc='upper right', fontsize=26)\n",
    "    plt.show()\n",
    "    \n",
    "w = interactive(animate_D3,B_var=(0.01,1.0,0.01), R_var=(0.01,1.0,0.01), N=(2, 50, 1))\n",
    "display(w)"
   ]
  }
 ],
 "metadata": {
  "celltoolbar": "Slideshow",
  "kernelspec": {
   "display_name": "Python 3",
   "language": "python",
   "name": "python3"
  },
  "language_info": {
   "codemirror_mode": {
    "name": "ipython",
    "version": 3
   },
   "file_extension": ".py",
   "mimetype": "text/x-python",
   "name": "python",
   "nbconvert_exporter": "python",
   "pygments_lexer": "ipython3",
   "version": "3.7.3"
  },
  "latex_envs": {
   "LaTeX_envs_menu_present": true,
   "autoclose": false,
   "autocomplete": false,
   "bibliofile": "biblio.bib",
   "cite_by": "apalike",
   "current_citInitial": 1,
   "eqLabelWithNumbers": true,
   "eqNumInitial": 1,
   "hotkeys": {
    "equation": "Ctrl-E",
    "itemize": "Ctrl-I"
   },
   "labels_anchors": false,
   "latex_user_defs": false,
   "report_style_numbering": false,
   "user_envs_cfg": false
  }
 },
 "nbformat": 4,
 "nbformat_minor": 2
}
